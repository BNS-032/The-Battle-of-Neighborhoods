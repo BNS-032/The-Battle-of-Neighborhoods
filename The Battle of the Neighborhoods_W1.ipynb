{
 "cells": [
  {
   "cell_type": "markdown",
   "metadata": {
    "collapsed": true
   },
   "source": [
    "## Introduction/Business Problem :"
   ]
  },
  {
   "cell_type": "markdown",
   "metadata": {},
   "source": [
    "Attending college is a significant part in a lot of individuals’ lives, whether they're attending for the first time or returning. Going to college can bring about a lot of stress due to tuition, courses, being in a new environment and much more. One of the biggest concerns when going off to college is, where are you going to live? This is a significant concern because expenses can be too much for families or an individual to bear along with additional expenses such as tuition, parking, school suppilies, etc. For those attending college, saving as much money as possible is a significant goal itself, outside of receiving a degree. For my project, I will focus on identifying the most cost-efficient neighborhoods around the University of Washington within the city of Seattle for incoming students who are interested in living off campus. This analysis will provide an informative outlook on the many neighborhoods that are within a four mile radius (North, South, East, West) of UW.\n",
    "\n"
   ]
  },
  {
   "cell_type": "markdown",
   "metadata": {},
   "source": [
    "## Data Aquistion and Application:"
   ]
  },
  {
   "cell_type": "markdown",
   "metadata": {},
   "source": [
    "The neighborhoods I will be focusing on will be the neighborhoods suggested from the University of Washingtons' website of the neighborhoods that are within four mile radius of the University. I will be also collecting current average rental costs of the neighborhoods from a webpage that focuses on current rental market trends within the Seattle Area. To provide a more insighful analysis, I will be taking current data on crime rates for each respective neighborhood as well as utilize the search-and-discovery mobile app Foursquare to give almost a full view what each neighborhood has to offerproviding information on top venues within each location. This in turn will aid college students and their families decision on where they should stay based on their interests and or needs."
   ]
  },
  {
   "cell_type": "code",
   "execution_count": null,
   "metadata": {},
   "outputs": [],
   "source": []
  }
 ],
 "metadata": {
  "kernelspec": {
   "display_name": "Python 3.6",
   "language": "python",
   "name": "python3"
  },
  "language_info": {
   "codemirror_mode": {
    "name": "ipython",
    "version": 3
   },
   "file_extension": ".py",
   "mimetype": "text/x-python",
   "name": "python",
   "nbconvert_exporter": "python",
   "pygments_lexer": "ipython3",
   "version": "3.6.8"
  }
 },
 "nbformat": 4,
 "nbformat_minor": 1
}
